{
 "cells": [
  {
   "cell_type": "code",
   "execution_count": null,
   "id": "bf46e166-cf72-43f9-980c-55f6d0eecd45",
   "metadata": {},
   "outputs": [],
   "source": [
    "!pip install -U \"sagemaker\"\n",
    "!pip install -U \"boto3\""
   ]
  },
  {
   "cell_type": "code",
   "execution_count": null,
   "id": "a7ba83dc-004f-409b-8329-55def96cfbf6",
   "metadata": {},
   "outputs": [],
   "source": [
    "import boto3\n",
    "import sagemaker\n",
    "from sagemaker import get_execution_role\n",
    "role = get_execution_role()"
   ]
  },
  {
   "cell_type": "code",
   "execution_count": null,
   "id": "1c5d38c5-6868-42e1-af74-887b9d303064",
   "metadata": {},
   "outputs": [],
   "source": [
    "!mkdir docker\n",
    "%%writefile docker/Dockerfile\n",
    "\n",
    "FROM openjdk:8-jre-slim\n",
    "\n",
    "RUN apt-get update\n",
    "RUN apt-get install -y python3 python3-setuptools python3-pip python-dev python3-dev\n",
    "\n",
    "RUN pip3 install pandas pyspark==3.2.0 delta-spark\n",
    "ENV PYTHONUNBUFFERED=TRUE\n",
    "\n",
    "ENTRYPOINT [\"python3\"]"
   ]
  },
  {
   "cell_type": "code",
   "execution_count": null,
   "id": "5097922b-0ee5-4d3e-b752-4f3272d88332",
   "metadata": {},
   "outputs": [],
   "source": [
    "account_id = boto3.client('sts').get_caller_identity().get('Account')\n",
    "region = boto3.Session().region_name\n",
    "ecr_repository = 'sagemaker-processing-container'\n",
    "tag = ':latest'\n",
    "processing_repository_uri = '{}.dkr.ecr.{}.amazonaws.com/{}'.format(account_id, region, ecr_repository + tag)\n",
    "\n",
    "# Create ECR repository and push docker image\n",
    "!docker build -t $ecr_repository docker\n",
    "!aws ecr get-login-password --region {region} | docker login --username AWS --password-stdin {account_id}.dkr.ecr.{region}.amazonaws.com\n",
    "!aws ecr create-repository --repository-name $ecr_repository\n",
    "!docker tag {ecr_repository + tag} $processing_repository_uri\n",
    "!docker push $processing_repository_uri\n",
    "\n",
    "processing_repository_uri"
   ]
  },
  {
   "cell_type": "code",
   "execution_count": null,
   "id": "b92e788a-e3d7-4284-9aef-40b7f3cccdb3",
   "metadata": {},
   "outputs": [],
   "source": [
    "from sagemaker.processing import ScriptProcessor, ProcessingInput, ProcessingOutput\n",
    "\n",
    "script_processor = ScriptProcessor(command=['python3'],\n",
    "                image_uri='238023316787.dkr.ecr.eu-west-1.amazonaws.com/sagemaker-processing-container:latest',\n",
    "                role=role,\n",
    "                instance_count=1,\n",
    "                instance_type='local')"
   ]
  },
  {
   "cell_type": "code",
   "execution_count": null,
   "id": "91b74e62-b2ce-4ba2-9678-69ee27d78924",
   "metadata": {},
   "outputs": [],
   "source": [
    "input_location = \"s3://aws-ml-blog/artifacts/delta-lake-bring-your-own-container/delta-table/california-housing/\"\n",
    "script_processor.run(code='deltaprocess.py',  \n",
    "                     inputs=[\n",
    "                         ProcessingInput(source=input_location, destination=\"/opt/ml/processing/input/\")\n",
    "                     ])"
   ]
  },
  {
   "cell_type": "code",
   "execution_count": null,
   "id": "73158349-52fd-4f1c-927e-015f04bf19a8",
   "metadata": {},
   "outputs": [],
   "source": []
  }
 ],
 "metadata": {
  "kernelspec": {
   "display_name": "conda_python3",
   "language": "python",
   "name": "conda_python3"
  },
  "language_info": {
   "codemirror_mode": {
    "name": "ipython",
    "version": 3
   },
   "file_extension": ".py",
   "mimetype": "text/x-python",
   "name": "python",
   "nbconvert_exporter": "python",
   "pygments_lexer": "ipython3",
   "version": "3.8.12"
  }
 },
 "nbformat": 4,
 "nbformat_minor": 5
}
