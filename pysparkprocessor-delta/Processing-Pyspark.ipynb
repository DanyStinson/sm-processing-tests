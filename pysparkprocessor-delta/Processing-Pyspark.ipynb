{
 "cells": [
  {
   "cell_type": "code",
   "execution_count": null,
   "id": "447b4395-034e-4c48-8d37-8e5e3d7e840d",
   "metadata": {},
   "outputs": [],
   "source": [
    "!/home/ec2-user/anaconda3/envs/python3/bin/python -m pip install --upgrade pip\n",
    "!pip install -qU \"sagemaker\"\n",
    "!pip install -qU \"boto3\""
   ]
  },
  {
   "cell_type": "code",
   "execution_count": null,
   "id": "9f42c365-39bb-4199-a2f0-c51120504edb",
   "metadata": {},
   "outputs": [],
   "source": [
    "import boto3\n",
    "import sagemaker\n",
    "from sagemaker import get_execution_role\n",
    "role = get_execution_role()"
   ]
  },
  {
   "cell_type": "code",
   "execution_count": null,
   "id": "149ab74e-bb2b-4a61-9ee3-1ecc447ab75f",
   "metadata": {},
   "outputs": [],
   "source": [
    "!mkdir docker"
   ]
  },
  {
   "cell_type": "code",
   "execution_count": null,
   "id": "77934c96-4244-4d74-a739-63a612240a76",
   "metadata": {},
   "outputs": [],
   "source": [
    "%%writefile docker/Dockerfile\n",
    "FROM 173754725891.dkr.ecr.us-east-1.amazonaws.com/sagemaker-spark-processing:3.2-cpu-py39-v1.0\n",
    "RUN pip3 install pandas delta-spark==2.0.1 tldextract spark-nlp==3.4.1 azure-cosmos==4.2.0 pycryptodome\n",
    "ENV PYTHONUNBUFFERED=TRUE\n",
    "ENTRYPOINT [\"python3\"]"
   ]
  },
  {
   "cell_type": "code",
   "execution_count": null,
   "id": "f91db393-8248-4c67-89f7-357cada70f89",
   "metadata": {},
   "outputs": [],
   "source": [
    "account_id = boto3.client('sts').get_caller_identity().get('Account')\n",
    "region = boto3.Session().region_name\n",
    "tag = ':latest'\n",
    "ecr_repository = 'sagemaker-processing-container-3'\n",
    "processing_repository_uri = '{}.dkr.ecr.{}.amazonaws.com/{}'.format(account_id, region, ecr_repository + tag)\n",
    "region, ecr_repository, processing_repository_uri"
   ]
  },
  {
   "cell_type": "code",
   "execution_count": null,
   "id": "1cc5e67c-7ab3-4b6f-b8c2-df7808734147",
   "metadata": {},
   "outputs": [],
   "source": [
    "!aws ecr get-login-password --region {region} | docker login --username AWS --password-stdin {account_id}.dkr.ecr.{region}.amazonaws.com \n",
    "!aws ecr get-login-password --region {region} | docker login --username AWS --password-stdin 173754725891.dkr.ecr.{region}.amazonaws.com \n",
    "!docker build -t $ecr_repository docker\n",
    "#!aws ecr create-repository --repository-name $ecr_repository\n",
    "!docker tag {ecr_repository + tag} $processing_repository_uri\n",
    "!docker push $processing_repository_uri"
   ]
  },
  {
   "cell_type": "code",
   "execution_count": null,
   "id": "7c567f01-cc63-4140-84c4-764a33412589",
   "metadata": {},
   "outputs": [],
   "source": [
    "from sagemaker.spark.processing import PySparkProcessor"
   ]
  },
  {
   "cell_type": "code",
   "execution_count": null,
   "id": "adce3735-0779-4794-8272-cc75c30da9c0",
   "metadata": {},
   "outputs": [],
   "source": [
    "spark_processor = PySparkProcessor(\n",
    "    base_job_name=\"spark-preprocessor\",\n",
    "    image_uri = processing_repository_uri,\n",
    "    role=role,\n",
    "    instance_count=1,\n",
    "    instance_type=\"ml.m5.xlarge\",\n",
    "    max_runtime_in_seconds=1200,\n",
    ")"
   ]
  },
  {
   "cell_type": "code",
   "execution_count": null,
   "id": "e647eacd-39ca-4dc4-8b5a-b81d9ff604a9",
   "metadata": {},
   "outputs": [],
   "source": [
    "from sagemaker.processing import ProcessingInput\n",
    "input_location = \"s3://aws-ml-blog/artifacts/delta-lake-bring-your-own-container/delta-table/california-housing/\"\n",
    "spark_processor.run(\n",
    "    submit_app=\"deltaprocess.py\",\n",
    "    submit_jars= [\"jars/delta-core_2.12-2.0.1.jar\",\"jars/delta-storage-2.0.1.jar\"],\n",
    "    arguments=[\"--s3_input_bucket\", input_location]\n",
    ")"
   ]
  }
 ],
 "metadata": {
  "kernelspec": {
   "display_name": "conda_python3",
   "language": "python",
   "name": "conda_python3"
  },
  "language_info": {
   "codemirror_mode": {
    "name": "ipython",
    "version": 3
   },
   "file_extension": ".py",
   "mimetype": "text/x-python",
   "name": "python",
   "nbconvert_exporter": "python",
   "pygments_lexer": "ipython3",
   "version": "3.8.12"
  }
 },
 "nbformat": 4,
 "nbformat_minor": 5
}
